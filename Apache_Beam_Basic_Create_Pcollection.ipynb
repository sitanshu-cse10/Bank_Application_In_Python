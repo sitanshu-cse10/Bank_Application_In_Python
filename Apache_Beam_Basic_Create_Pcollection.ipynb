{
  "nbformat": 4,
  "nbformat_minor": 0,
  "metadata": {
    "colab": {
      "name": "Apache_Beam_Basic.ipynb",
      "provenance": [],
      "authorship_tag": "ABX9TyM6Gx++MLzDpRKb+s4IsblK",
      "include_colab_link": true
    },
    "kernelspec": {
      "name": "python3",
      "display_name": "Python 3"
    },
    "language_info": {
      "name": "python"
    }
  },
  "cells": [
    {
      "cell_type": "markdown",
      "metadata": {
        "id": "view-in-github",
        "colab_type": "text"
      },
      "source": [
        "<a href=\"https://colab.research.google.com/github/sitanshu-cse10/Bank_Application_In_Python/blob/master/Apache_Beam_Basic_Create_Pcollection.ipynb\" target=\"_parent\"><img src=\"https://colab.research.google.com/assets/colab-badge.svg\" alt=\"Open In Colab\"/></a>"
      ]
    },
    {
      "cell_type": "code",
      "execution_count": 2,
      "metadata": {
        "id": "D2sMhsHq8uk6"
      },
      "outputs": [],
      "source": [
        "!{'pip install --quiet apache_beam'}\n"
      ]
    },
    {
      "cell_type": "code",
      "source": [
        "!{'pip install --quiet apache-beam[interactive]'}"
      ],
      "metadata": {
        "id": "HlNSFEB_h14T"
      },
      "execution_count": 8,
      "outputs": []
    },
    {
      "cell_type": "code",
      "source": [
        "import apache_beam as beam"
      ],
      "metadata": {
        "id": "XyeI_LonI726"
      },
      "execution_count": 9,
      "outputs": []
    },
    {
      "cell_type": "code",
      "source": [
        "import apache_beam as beam\n",
        "\n",
        "p2 = beam.Pipeline()\n",
        "\n",
        "lines = (\n",
        "            p2\n",
        "            | beam.Create([\n",
        "               'Using create transform ',\n",
        "               'to generate in memory data ',\n",
        "               'This is 3rd line ',\n",
        "               'Thanks '])\n",
        "     \n",
        "            | beam.io.WriteToText('data/outCreate1')\n",
        "          )\n",
        "p2.run()  \n",
        "\n"
      ],
      "metadata": {
        "id": "x_S7PhW8WLjY",
        "colab": {
          "base_uri": "https://localhost:8080/"
        },
        "outputId": "21102458-ebb5-4f8b-8cfb-54509c653297"
      },
      "execution_count": 10,
      "outputs": [
        {
          "output_type": "stream",
          "name": "stderr",
          "text": [
            "WARNING:root:Make sure that locally built Python SDK docker image has Python 3.7 interpreter.\n",
            "WARNING:apache_beam.io.filebasedsink:Deleting 1 existing files in target path matching: -*-of-%(num_shards)05d\n"
          ]
        },
        {
          "output_type": "execute_result",
          "data": {
            "text/plain": [
              "<apache_beam.runners.portability.fn_api_runner.fn_runner.RunnerResult at 0x7fdab1b73a10>"
            ]
          },
          "metadata": {},
          "execution_count": 10
        }
      ]
    },
    {
      "cell_type": "code",
      "source": [
        "# visualize output\n",
        "!{('head -n 20 data/outCreate1-00000-of-00001')}\n"
      ],
      "metadata": {
        "colab": {
          "base_uri": "https://localhost:8080/"
        },
        "id": "7yGGROrFjAUd",
        "outputId": "4adad8bd-6fab-4b51-e504-b9c162f2833e"
      },
      "execution_count": 11,
      "outputs": [
        {
          "output_type": "stream",
          "name": "stdout",
          "text": [
            "Using create transform \n",
            "to generate in memory data \n",
            "This is 3rd line \n",
            "Thanks \n"
          ]
        }
      ]
    },
    {
      "cell_type": "code",
      "source": [
        "p3 = beam.Pipeline()\n",
        "\n",
        "lines1 = (p3\n",
        "           \n",
        "           | beam.Create([1,2,3,4,5,6,7,8,9])\n",
        "           \n",
        "           | beam.io.WriteToText('data/outCreate2')\n",
        "          )\n",
        "p3.run()\n",
        "\n"
      ],
      "metadata": {
        "colab": {
          "base_uri": "https://localhost:8080/"
        },
        "id": "NtLysHTqb9xh",
        "outputId": "b98879ec-bd74-4b9c-deb7-89cea587a067"
      },
      "execution_count": 12,
      "outputs": [
        {
          "output_type": "stream",
          "name": "stderr",
          "text": [
            "WARNING:root:Make sure that locally built Python SDK docker image has Python 3.7 interpreter.\n"
          ]
        },
        {
          "output_type": "execute_result",
          "data": {
            "text/plain": [
              "<apache_beam.runners.portability.fn_api_runner.fn_runner.RunnerResult at 0x7fdab3563710>"
            ]
          },
          "metadata": {},
          "execution_count": 12
        }
      ]
    },
    {
      "cell_type": "code",
      "source": [
        "# visualize output\n",
        "!{('head -n 20 data/outCreate2-00000-of-00001')}"
      ],
      "metadata": {
        "colab": {
          "base_uri": "https://localhost:8080/"
        },
        "id": "mMlYT1HZjFWC",
        "outputId": "10a96559-608b-4472-e036-768ee2e7f629"
      },
      "execution_count": 13,
      "outputs": [
        {
          "output_type": "stream",
          "name": "stdout",
          "text": [
            "1\n",
            "2\n",
            "3\n",
            "4\n",
            "5\n",
            "6\n",
            "7\n",
            "8\n",
            "9\n"
          ]
        }
      ]
    },
    {
      "cell_type": "code",
      "source": [
        "p4 = beam.Pipeline()\n",
        "\n",
        "\n",
        "lines = (p4\n",
        "           | beam.Create([(\"maths\",52),(\"english\",75),(\"science\",82), (\"computer\",65),(\"maths\",85)])\n",
        "         \n",
        "            | beam.io.WriteToText('data/outCreate3')\n",
        "          )\n",
        "p4.run()\n",
        "\n"
      ],
      "metadata": {
        "colab": {
          "base_uri": "https://localhost:8080/"
        },
        "id": "jAmxMLOTjILe",
        "outputId": "bdafc06a-750a-4272-9eb6-041b8921decb"
      },
      "execution_count": 15,
      "outputs": [
        {
          "output_type": "stream",
          "name": "stderr",
          "text": [
            "WARNING:root:Make sure that locally built Python SDK docker image has Python 3.7 interpreter.\n"
          ]
        },
        {
          "output_type": "execute_result",
          "data": {
            "text/plain": [
              "<apache_beam.runners.portability.fn_api_runner.fn_runner.RunnerResult at 0x7fdab1ab8410>"
            ]
          },
          "metadata": {},
          "execution_count": 15
        }
      ]
    },
    {
      "cell_type": "code",
      "source": [
        "\n",
        "# visualize output\n",
        "!{('head -n 20 data/outCreate3-00000-of-00001')}\n"
      ],
      "metadata": {
        "colab": {
          "base_uri": "https://localhost:8080/"
        },
        "id": "XKWtFRZ9jNdE",
        "outputId": "8a15831c-59e5-4c06-a469-f45cc89132ab"
      },
      "execution_count": 16,
      "outputs": [
        {
          "output_type": "stream",
          "name": "stdout",
          "text": [
            "('maths', 52)\n",
            "('english', 75)\n",
            "('science', 82)\n",
            "('computer', 65)\n",
            "('maths', 85)\n"
          ]
        }
      ]
    },
    {
      "cell_type": "code",
      "source": [
        "\n",
        "\n",
        "import apache_beam as beam\n",
        "\n",
        "p5 = beam.Pipeline()\n",
        "\n",
        "lines = ( p5\n",
        "         \n",
        "       | beam.Create({'row1':[1,2,3,4,5],\n",
        "                     'row2':[1,2,3,4,5]})\n",
        "       | beam.Map(lambda element: element)\n",
        "       | beam.io.WriteToText('data/outCreate4')\n",
        "  )\n",
        "  \n",
        "p5.run()\n"
      ],
      "metadata": {
        "colab": {
          "base_uri": "https://localhost:8080/"
        },
        "id": "jyHr6IsojSk8",
        "outputId": "a78afc1f-db46-45f7-9b71-3a38bdfee21a"
      },
      "execution_count": 17,
      "outputs": [
        {
          "output_type": "stream",
          "name": "stderr",
          "text": [
            "WARNING:root:Make sure that locally built Python SDK docker image has Python 3.7 interpreter.\n"
          ]
        },
        {
          "output_type": "execute_result",
          "data": {
            "text/plain": [
              "<apache_beam.runners.portability.fn_api_runner.fn_runner.RunnerResult at 0x7fdab1aff450>"
            ]
          },
          "metadata": {},
          "execution_count": 17
        }
      ]
    },
    {
      "cell_type": "code",
      "source": [
        "# visualize output\n",
        "!{('head -n 20 data/outCreate4-00000-of-00001')}\n",
        "\n",
        "\n"
      ],
      "metadata": {
        "colab": {
          "base_uri": "https://localhost:8080/"
        },
        "id": "BNIOsrIkjUzI",
        "outputId": "7eae9b7a-6cba-4511-b6e3-22f527efc7f0"
      },
      "execution_count": 18,
      "outputs": [
        {
          "output_type": "stream",
          "name": "stdout",
          "text": [
            "('row1', [1, 2, 3, 4, 5])\n",
            "('row2', [1, 2, 3, 4, 5])\n"
          ]
        }
      ]
    },
    {
      "cell_type": "code",
      "source": [
        ""
      ],
      "metadata": {
        "id": "PrgLrC2UjWC1"
      },
      "execution_count": null,
      "outputs": []
    }
  ]
}